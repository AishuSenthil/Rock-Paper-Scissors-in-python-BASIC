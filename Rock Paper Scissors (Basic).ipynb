{
 "cells": [
  {
   "cell_type": "markdown",
   "id": "773119ce",
   "metadata": {},
   "source": [
    "  <font size = 6>                          *****LET'S PLAY ROCK PAPER SCISSORS !!!*****                </font>"
   ]
  },
  {
   "cell_type": "code",
   "execution_count": 41,
   "id": "97119d67",
   "metadata": {},
   "outputs": [
    {
     "name": "stdout",
     "output_type": "stream",
     "text": [
      "Pick a weapon!\n",
      "'r' for Rock\n",
      "'p' for Paper\n",
      "'end' for End Game\n",
      "r\n",
      "You have selected:r\n",
      "Computer has selected:s\n",
      "You Win!\n",
      "Pick a weapon!\n",
      "'r' for Rock\n",
      "'p' for Paper\n",
      "'end' for End Game\n",
      "p\n",
      "It's a tie!\n",
      "Pick a weapon!\n",
      "'r' for Rock\n",
      "'p' for Paper\n",
      "'end' for End Game\n",
      "r\n",
      "It's a tie!\n",
      "Pick a weapon!\n",
      "'r' for Rock\n",
      "'p' for Paper\n",
      "'end' for End Game\n",
      "end\n"
     ]
    }
   ],
   "source": [
    "import random\n",
    "\n",
    "def play():\n",
    "    while True:\n",
    "        Player_weapon = input(\"Pick a weapon!\\n\"\n",
    "                              \"'r' for Rock\\n\"\n",
    "                              \"'p' for Paper\\n\"\n",
    "                              \"'end' for End Game\\n\")\n",
    "        if Player_weapon == 'end':\n",
    "            break\n",
    "\n",
    "        Computer_weapon = random.choice(['r', 'p', 's'])\n",
    "        determine_winner(Player_weapon, Computer_weapon)\n",
    "\n",
    "def determine_winner(Player_weapon, Computer_weapon):\n",
    "\n",
    "    if Player_weapon == Computer_weapon:\n",
    "        print(\"It's a tie!\")\n",
    "        return\n",
    "\n",
    "    if (Player_weapon == 'r' and Computer_weapon == 's') or \\\n",
    "       (Player_weapon == 'p' and Computer_weapon == 'r') or \\\n",
    "       (Player_weapon == 's' and Computer_weapon == 'p'):\n",
    "        print(\"You have selected:\" + Player_weapon)\n",
    "        print(\"Computer has selected:\" + Computer_weapon)\n",
    "        print(\"You Win!\")\n",
    "    else:\n",
    "        print(\"Computer has selected:\" + Computer_weapon)\n",
    "        print(\"Computer Wins!\")\n",
    "\n",
    "if __name__ == '__main__':\n",
    "    play()"
   ]
  },
  {
   "cell_type": "code",
   "execution_count": null,
   "id": "ed3708e8",
   "metadata": {},
   "outputs": [],
   "source": []
  }
 ],
 "metadata": {
  "kernelspec": {
   "display_name": "Python 3 (ipykernel)",
   "language": "python",
   "name": "python3"
  },
  "language_info": {
   "codemirror_mode": {
    "name": "ipython",
    "version": 3
   },
   "file_extension": ".py",
   "mimetype": "text/x-python",
   "name": "python",
   "nbconvert_exporter": "python",
   "pygments_lexer": "ipython3",
   "version": "3.9.13"
  }
 },
 "nbformat": 4,
 "nbformat_minor": 5
}
